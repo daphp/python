{
  "metadata": {
    "kernelspec": {
      "name": "python",
      "display_name": "Python (Pyodide)",
      "language": "python"
    },
    "language_info": {
      "codemirror_mode": {
        "name": "python",
        "version": 3
      },
      "file_extension": ".py",
      "mimetype": "text/x-python",
      "name": "python",
      "nbconvert_exporter": "python",
      "pygments_lexer": "ipython3",
      "version": "3.8"
    }
  },
  "nbformat_minor": 4,
  "nbformat": 4,
  "cells": [
    {
      "cell_type": "code",
      "source": "%pip install pandas",
      "metadata": {
        "trusted": true
      },
      "outputs": [],
      "execution_count": 1
    },
    {
      "cell_type": "code",
      "source": "import pandas as pd\n\n# Load the dataset\ndf = pd.read_csv('budget_data.csv')\n\n# Calculate the total number of months included in the dataset\ntotal_months = df.shape[0]\n\n# Calculate the net total amount of \"Profit/Losses\" over the entire period\nnet_total = df['Profit/Losses'].sum()\n\n# Calculate the changes in \"Profit/Losses\" over the entire period\ndf['Change'] = df['Profit/Losses'].diff()\n\n# Calculate the average of those changes\naverage_change = df['Change'].mean()\n\n# Find the greatest increase in profits (date and amount) over the entire period\ngreatest_increase = df.loc[df['Change'].idxmax()]\ngreatest_increase_date = greatest_increase['Date']\ngreatest_increase_amount = greatest_increase['Change']\n\n# Find the greatest decrease in profits (date and amount) over the entire period\ngreatest_decrease = df.loc[df['Change'].idxmin()]\ngreatest_decrease_date = greatest_decrease['Date']\ngreatest_decrease_amount = greatest_decrease['Change']\n\n# Prepare the output\noutput = (\n    \"Financial Analysis\\n\"\n    \"----------------------------\\n\"\n    f\"Total Months: {total_months}\\n\"\n    f\"Total: ${net_total}\\n\"\n    f\"Average Change: ${average_change:.2f}\\n\"\n    f\"Greatest Increase in Profits: {greatest_increase_date} (${greatest_increase_amount})\\n\"\n    f\"Greatest Decrease in Profits: {greatest_decrease_date} (${greatest_decrease_amount})\"\n)\n\n# Print the output\nprint(output)\n\n# Export the results to a text file\nwith open('financial_analysis.txt', 'w') as file:\n    file.write(output)\n\n# Code to download the file in Jupyter notebook\nfrom IPython.display import FileLink\n\n# Display a link to download the file\ndisplay(FileLink('financial_analysis.txt'))\n",
      "metadata": {
        "trusted": true
      },
      "outputs": [
        {
          "name": "stdout",
          "text": "Financial Analysis\n----------------------------\nTotal Months: 86\nTotal: $22564198\nAverage Change: $-8311.11\nGreatest Increase in Profits: Aug-16 ($1862002.0)\nGreatest Decrease in Profits: Feb-14 ($-1825558.0)\n",
          "output_type": "stream"
        },
        {
          "output_type": "display_data",
          "data": {
            "text/plain": "/drive/financial_analysis.txt",
            "text/html": "<a href='financial_analysis.txt' target='_blank'>financial_analysis.txt</a><br>"
          },
          "metadata": {}
        }
      ],
      "execution_count": 3
    },
    {
      "cell_type": "code",
      "source": "",
      "metadata": {
        "trusted": true
      },
      "outputs": [],
      "execution_count": null
    }
  ]
}