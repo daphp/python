{
  "metadata": {
    "kernelspec": {
      "name": "python",
      "display_name": "Python (Pyodide)",
      "language": "python"
    },
    "language_info": {
      "codemirror_mode": {
        "name": "python",
        "version": 3
      },
      "file_extension": ".py",
      "mimetype": "text/x-python",
      "name": "python",
      "nbconvert_exporter": "python",
      "pygments_lexer": "ipython3",
      "version": "3.8"
    }
  },
  "nbformat_minor": 4,
  "nbformat": 4,
  "cells": [
    {
      "cell_type": "code",
      "source": "%pip install pandas",
      "metadata": {
        "trusted": true
      },
      "outputs": [],
      "execution_count": 1
    },
    {
      "cell_type": "code",
      "source": "import pandas as pd\n\n# Load the dataset\ndf = pd.read_csv('election_data.csv')\n\n# Calculate the total number of votes cast\ntotal_votes = df.shape[0]\n\n# Get a complete list of candidates who received votes\ncandidates = df['Candidate'].unique()\n\n# Calculate the total number of votes each candidate won\nvote_counts = df['Candidate'].value_counts()\n\n# Calculate the percentage of votes each candidate won\nvote_percentages = (vote_counts / total_votes) * 100\n\n# Determine the winner of the election based on popular vote\nwinner = vote_counts.idxmax()\n\n# Prepare the output\noutput = (\n    \"Election Results\\n\"\n    \"----------------------------\\n\"\n    f\"Total Votes: {total_votes}\\n\"\n    \"----------------------------\\n\"\n)\n\nfor candidate in candidates:\n    output += f\"{candidate}: {vote_percentages[candidate]:.3f}% ({vote_counts[candidate]})\\n\"\n\noutput += \"----------------------------\\n\"\noutput += f\"Winner: {winner}\\n\"\noutput += \"----------------------------\"\n\n# Print the output\nprint(output)\n\n# Export the results to a text file\nwith open('election_results.txt', 'w') as file:\n    file.write(output)\n\n# Code to download the file in Jupyter notebook\nfrom IPython.display import FileLink\n\n# Display a link to download the file\ndisplay(FileLink('election_results.txt'))\n\n",
      "metadata": {
        "trusted": true
      },
      "outputs": [
        {
          "name": "stdout",
          "text": "Election Results\n----------------------------\nTotal Votes: 369711\n----------------------------\nCharles Casper Stockham: 23.049% (85213)\nDiana DeGette: 73.812% (272892)\nRaymon Anthony Doane: 3.139% (11606)\n----------------------------\nWinner: Diana DeGette\n----------------------------\n",
          "output_type": "stream"
        },
        {
          "output_type": "display_data",
          "data": {
            "text/plain": "/drive/election_results.txt",
            "text/html": "<a href='election_results.txt' target='_blank'>election_results.txt</a><br>"
          },
          "metadata": {}
        }
      ],
      "execution_count": 3
    },
    {
      "cell_type": "code",
      "source": "",
      "metadata": {
        "trusted": true
      },
      "outputs": [],
      "execution_count": null
    }
  ]
}